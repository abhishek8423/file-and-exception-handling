{
 "cells": [
  {
   "cell_type": "markdown",
   "id": "b02c4076-4e59-4505-b1d3-297cbee19eaf",
   "metadata": {},
   "source": [
    "# FILE AND EXCEPTION HANDLING"
   ]
  },
  {
   "cell_type": "markdown",
   "id": "637b997e-127c-4f70-a054-7011fdf611ab",
   "metadata": {},
   "source": [
    "### 1. Discuss the scenarios where multithreading is preferable to multiprocessing and scenarios where multiprocessing is a better choice."
   ]
  },
  {
   "cell_type": "markdown",
   "id": "2014c4c7-481c-4299-8ee4-c5e2e23cd8c5",
   "metadata": {},
   "source": [
    "**Multithreading:**\n",
    "Multithreading is more efficient in cases where multiple threads need to share the same memory space and where tasks are more I/O-bound than CPU-bound.\n",
    "- __I/O-bound operations:__\n",
    "When a program spends most of its time waiting for input/output operations (e.g., reading from a disk, waiting for network requests), multithreading can allow other threads to perform tasks while one waits. This helps to maximize the usage of system resources.\n",
    "\n",
    "- __Low overhead requirements:__\n",
    "\n",
    "Since threads share the same memory space, the overhead of context switching is lower compared to processes. When tasks are lightweight, and memory sharing is crucial, multithreading is beneficial.\n",
    "- __Shared data structures:__\n",
    "\n",
    "When threads need to operate on the same data or share variables, multithreading simplifies the code by avoiding the need to serialize or transfer data between processes.\n",
    "- __Limited CPU resources:__\n",
    "\n",
    "In environments where CPU resources are constrained or where creating new processes would be costly in terms of memory usage, multithreading helps by reducing the overhead.\n",
    "\n",
    "**Multiprocessing:**\n",
    "Multiprocessing is more suitable for CPU-bound tasks where the workload can be divided across multiple CPU cores, and each process can run independently with its own memory space.\n",
    "\n",
    "Scenarios where multiprocessing is preferable:\n",
    "- __CPU-bound operations:__\n",
    "\n",
    "If the application is performing heavy computation, multiprocessing can fully utilize the system's multiple CPU cores by distributing the workload across multiple processes.\n",
    "- __Parallel execution:__\n",
    "\n",
    "Since processes run in separate memory spaces, multiprocessing avoids the Global Interpreter Lock (GIL) in languages like Python, which can limit true parallelism in multithreaded applications. \n",
    "- __Independent tasks:__\n",
    "\n",
    "If tasks are independent and don't need to share much data between them, multiprocessing avoids the complexity of managing shared memory and locks.\n",
    "- __Fault isolation:__\n",
    "\n",
    "Since each process runs in its own memory space, if one process crashes or misbehaves, it doesn’t affect other processes. "
   ]
  },
  {
   "cell_type": "markdown",
   "id": "67752c49-3b34-42ad-b715-a9eb49b3f1a2",
   "metadata": {},
   "source": [
    "### 2. Describe what a process pool is and how it helps in managing multiple processes efficiently."
   ]
  },
  {
   "cell_type": "markdown",
   "id": "209920db-d58c-413b-8f6d-330026c275ba",
   "metadata": {},
   "source": [
    "A process pool is a high-level abstraction that manages a collection  of worker processes, enabling efficient handling of multiple processes. It simplifies the process of running tasks concurrently by managing the creation, execution, and termination of worker processes.\n",
    "\n",
    "- __Reduced Overhead:__\n",
    "\n",
    "Creating and destroying processes repeatedly can be costly due to memory allocation, CPU scheduling, and other system resources. Process pools minimize this overhead by reusing a fixed set of processes.\n",
    "\n",
    "- __Concurrency Control:__\n",
    "\n",
    "The pool size controls the level of concurrency. By limiting the number of processes, the system can avoid being overwhelmed by excessive context switching and resource contention.\n",
    "\n",
    "- __Scalability:__\n",
    "\n",
    "Process pools are scalable. By adjusting the pool size, the system can be tuned for optimal performance, ensuring efficient CPU utilization.\n",
    "\n",
    "- __Fault Tolerance:__\n",
    "\n",
    "If a worker process fails during execution, the pool can create a new one to take over, ensuring robustness without affecting other running processes.\n"
   ]
  },
  {
   "cell_type": "markdown",
   "id": "21a53cfc-a2ad-4f35-adce-2873e47c7fef",
   "metadata": {},
   "source": [
    "### 3. Explain what multiprocessing is and why it is used in Python programs."
   ]
  },
  {
   "cell_type": "markdown",
   "id": "1b7e76af-0f90-4223-b716-a64cf6126569",
   "metadata": {},
   "source": [
    "Multiprocessing involves running multiple independent processes, where each process can perform a task in parallel with others. Unlike multithreading, which involves multiple threads sharing the same memory space, processes in multiprocessing are completely isolated from one another and have their own memory and resources.\n",
    "\n",
    "__Use Multiprocessing in Python:__\n",
    "Python’s Global Interpreter Lock (GIL) is a mechanism that allows only one thread to execute Python bytecode at a time, even on multi-core processors. This severely limits the benefits of using multithreading in CPU-bound tasks, as the GIL becomes a bottleneck.\n",
    "\n",
    "To overcome this limitation and achieve true parallelism, Python provides the multiprocessing module. This allows Python programs to bypass the GIL by creating separate processes, where each process runs on a different CPU core, fully utilizing multi-core processors for CPU-bound tasks."
   ]
  },
  {
   "cell_type": "markdown",
   "id": "15328b04-8217-43da-8a54-29af80abb77b",
   "metadata": {},
   "source": [
    "### 4. Write a Python program using multithreading where one thread adds numbers to a list, and another thread removes numbers from the list. Implement a mechanism to avoid race conditions using threading.Lock."
   ]
  },
  {
   "cell_type": "code",
   "execution_count": 1,
   "id": "c01bdc98-1188-4c6a-ad2a-7228e76f9997",
   "metadata": {},
   "outputs": [
    {
     "name": "stdout",
     "output_type": "stream",
     "text": [
      "Added: 0, List: [0]\n",
      "Added: 1, List: [0, 1]\n",
      "Removed: 0, List: [1]\n",
      "Added: 2, List: [1, 2]\n",
      "Added: 3, List: [1, 2, 3]\n",
      "Removed: 1, List: [2, 3]\n",
      "Added: 4, List: [2, 3, 4]\n",
      "Removed: 2, List: [3, 4]\n",
      "Added: 5, List: [3, 4, 5]\n",
      "Added: 6, List: [3, 4, 5, 6]\n",
      "Removed: 3, List: [4, 5, 6]\n",
      "Added: 7, List: [4, 5, 6, 7]\n",
      "Removed: 4, List: [5, 6, 7]\n",
      "Added: 8, List: [5, 6, 7, 8]\n",
      "Removed: 5, List: [6, 7, 8]\n",
      "Added: 9, List: [6, 7, 8, 9]\n",
      "Removed: 6, List: [7, 8, 9]\n",
      "Removed: 7, List: [8, 9]\n",
      "Removed: 8, List: [9]\n",
      "Removed: 9, List: []\n",
      "Final list: []\n"
     ]
    }
   ],
   "source": [
    "import threading\n",
    "import time\n",
    "shared_list = []\n",
    "list_lock = threading.Lock()\n",
    "def add_to_list():\n",
    "    for i in range(10):\n",
    "        list_lock.acquire()\n",
    "        try:\n",
    "            shared_list.append(i)\n",
    "            print(f\"Added: {i}, List: {shared_list}\")\n",
    "        finally:\n",
    "            list_lock.release()\n",
    "        time.sleep(1)  \n",
    "def remove_from_list():\n",
    "    for i in range(10):\n",
    "        time.sleep(1.5) \n",
    "        list_lock.acquire()\n",
    "        try:\n",
    "            if shared_list:\n",
    "                removed = shared_list.pop(0)\n",
    "                print(f\"Removed: {removed}, List: {shared_list}\")\n",
    "            else:\n",
    "                print(\"List is empty, nothing to remove.\")\n",
    "        finally:\n",
    "            list_lock.release()\n",
    "thread1 = threading.Thread(target=add_to_list)\n",
    "thread2 = threading.Thread(target=remove_from_list)\n",
    "thread1.start()\n",
    "thread2.start()\n",
    "thread1.join()\n",
    "thread2.join()\n",
    "\n",
    "print(\"Final list:\", shared_list)\n"
   ]
  },
  {
   "cell_type": "markdown",
   "id": "99ca2aec-58c9-4c2d-a1f8-c6bd60397372",
   "metadata": {},
   "source": [
    "### 5. Describe the methods and tools available in Python for safely sharing data between threads and processes."
   ]
  },
  {
   "cell_type": "markdown",
   "id": "34c374a9-90af-457d-aaed-4f6c94a9380f",
   "metadata": {},
   "source": [
    "In Python, safely sharing data between threads and processes is crucial to avoid race conditions, deadlocks, and data corruption. Both threading and multiprocessing have different mechanisms for data sharing, as threads share memory within a process while processes have isolated memory spaces. Python provides several methods and tools to handle these scenarios safely.\n",
    "\n",
    "__1. Data Sharing Between Threads__\n",
    "- threading.Lock\n",
    "- threading.RLock\n",
    "- threading.Semaphore\n",
    "- threading.Condition\n",
    "- threading.Event\n",
    "- threading.Queue\n",
    "  \n",
    "__2. Data Sharing Between Processes__\n",
    "- multiprocessing.Queue\n",
    "- multiprocessing.Pipe\n",
    "- multiprocessing.Manager\n",
    "- multiprocessing.Value\n",
    "- multiprocessing.Lock\n",
    " \n",
    "__3. Tools for Synchronization__\n",
    "- multiprocessing.Condition\n",
    "- multiprocessing.Semaphore\n",
    "- multiprocessing.Event"
   ]
  },
  {
   "cell_type": "markdown",
   "id": "a5349d69-1615-4554-806a-8827db8fc368",
   "metadata": {},
   "source": [
    "### 6. Discuss why it’s crucial to handle exceptions in concurrent programs and the techniques available for doing so."
   ]
  },
  {
   "cell_type": "markdown",
   "id": "b593769f-1ddb-47d0-b51f-fd8205efeb71",
   "metadata": {},
   "source": [
    "Handling exceptions in concurrent programs is crucial to ensuring the stability, reliability, and robustness of a program. When multiple threads or processes run concurrently, any unhandled exception in one of them can lead to unexpected behavior, corruption of shared resources, or even the crashing of the entire program.\n",
    "\n",
    "__Why Exception Handling Is Crucial in Concurrent Programs__\n",
    "\n",
    "- __Prevents Silent Failures:__\n",
    "\n",
    "In concurrent programs, exceptions may go unnoticed if not handled properly. For instance, in multithreading, if an exception occurs in a worker thread, it doesn’t directly affect the main thread, and the program might continue running without knowing something went wrong. \n",
    "\n",
    "- __Ensures Data Integrity:__\n",
    "\n",
    "Concurrent programs often share data between threads or processes. If an exception is not handled, it could leave shared resources in an inconsistent or corrupt state (e.g., partially updated data, locked resources, etc.), leading to unpredictable results.\n",
    "\n",
    "- __Avoids Resource Leaks:__\n",
    "\n",
    "If an exception occurs during the execution of a thread or process and it is not properly handled, resources such as file handles, network connections, or memory might not be released correctly, leading to resource leaks.\n",
    "\n",
    "- __Maintains System Stability:__\n",
    "\n",
    "In multiprocessing, an exception in one process can cause that process to terminate prematurely. If the exception is not handled and the parent process is not informed, the overall system might not behave as expected. \n",
    "\n",
    "**Techniques for Handling Exceptions in Concurrent Programs:**\n",
    "1. Exception Handling in Multithreading\n",
    "   - Try-Except Block Inside Threads\n",
    "   - Propagating Exceptions to the Main Thread\n",
    "   - Using Custom Thread Classes\n",
    "2. Exception Handling in Multiprocessing\n",
    "   - Try-Except Block Inside Processes\n",
    "   - Propagating Exceptions to the Main Process\n",
    "   - Using concurrent.futures.ProcessPoolExecutor\n",
    "   -  Using Manager for Shared State"
   ]
  },
  {
   "cell_type": "markdown",
   "id": "f90669ea-90fe-4e0a-81f6-e3ff82b52325",
   "metadata": {},
   "source": [
    "### 7. Create a program that uses a thread pool to calculate the factorial of numbers from 1 to 10 concurrently. Use concurrent.futures.ThreadPoolExecutor to manage the threads"
   ]
  },
  {
   "cell_type": "code",
   "execution_count": 2,
   "id": "bab5f72e-bffa-4841-8b4e-8492f436639e",
   "metadata": {},
   "outputs": [
    {
     "name": "stdout",
     "output_type": "stream",
     "text": [
      "Calculating factorial of 1\n",
      "Calculating factorial of 2\n",
      "Calculating factorial of 3\n",
      "Calculating factorial of 4\n",
      "Calculating factorial of 5\n",
      "Calculating factorial of 6\n",
      "Calculating factorial of 7\n",
      "Calculating factorial of 8\n",
      "Factorial result: 1\n",
      "Factorial result: 2\n",
      "Factorial result: 6\n",
      "Factorial result: 24\n",
      "Factorial result: 120\n",
      "Factorial result: 720\n",
      "Factorial result: 5040\n",
      "Factorial result: 40320\n",
      "Calculating factorial of 9\n",
      "Calculating factorial of 10\n",
      "Factorial result: 362880\n",
      "Factorial result: 3628800\n"
     ]
    }
   ],
   "source": [
    "from concurrent.futures import ThreadPoolExecutor\n",
    "import math\n",
    "def factorial(n):\n",
    "    print(f\"Calculating factorial of {n}\")\n",
    "    return math.factorial(n)\n",
    "numbers = range(1, 11)\n",
    "with ThreadPoolExecutor() as executor:\n",
    "    futures = [executor.submit(factorial, num) for num in numbers]\n",
    "    for future in futures:\n",
    "        try:\n",
    "            result = future.result()  \n",
    "            print(f\"Factorial result: {result}\")\n",
    "        except Exception as e:\n",
    "            print(f\"An error occurred: {e}\")\n"
   ]
  },
  {
   "cell_type": "markdown",
   "id": "e6cf45f5-4b7f-4d5c-8d0a-25f9f342dd05",
   "metadata": {},
   "source": [
    "### 8. Create a Python program that uses multiprocessing.Pool to compute the square of numbers from 1 to 10 in parallel. Measure the time taken to perform this computation using a pool of different sizes (e.g., 2, 4, 8 processes)"
   ]
  },
  {
   "cell_type": "code",
   "execution_count": null,
   "id": "c7074aae-ec79-409d-9470-e6ec815f856b",
   "metadata": {},
   "outputs": [
    {
     "name": "stdout",
     "output_type": "stream",
     "text": [
      "\n",
      "Using a pool of 2 processes\n"
     ]
    }
   ],
   "source": [
    "import multiprocessing\n",
    "import time\n",
    "def square(n):\n",
    "    return n * n\n",
    "numbers = range(1, 11)\n",
    "def measure_time(pool_size):\n",
    "    print(f\"\\nUsing a pool of {pool_size} processes\")\n",
    "    start_time = time.time()\n",
    "    with multiprocessing.Pool(pool_size) as pool:\n",
    "        results = pool.map(square, numbers)\n",
    "    end_time = time.time()\n",
    "    print(f\"Squares: {results}\")\n",
    "    print(f\"Time taken: {end_time - start_time:.4f} seconds\")\n",
    "\n",
    "if __name__ == \"__main__\":\n",
    "    for pool_size in [2, 4, 8]:\n",
    "        measure_time(pool_size)\n"
   ]
  }
 ],
 "metadata": {
  "kernelspec": {
   "display_name": "Python 3 (ipykernel)",
   "language": "python",
   "name": "python3"
  },
  "language_info": {
   "codemirror_mode": {
    "name": "ipython",
    "version": 3
   },
   "file_extension": ".py",
   "mimetype": "text/x-python",
   "name": "python",
   "nbconvert_exporter": "python",
   "pygments_lexer": "ipython3",
   "version": "3.12.4"
  }
 },
 "nbformat": 4,
 "nbformat_minor": 5
}
